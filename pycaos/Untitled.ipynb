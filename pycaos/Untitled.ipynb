{
 "cells": [
  {
   "cell_type": "code",
   "execution_count": 1,
   "metadata": {},
   "outputs": [],
   "source": [
    "import numpy as np "
   ]
  },
  {
   "cell_type": "code",
   "execution_count": 4,
   "metadata": {},
   "outputs": [
    {
     "ename": "ValueError",
     "evalue": "a must be 1-dimensional",
     "output_type": "error",
     "traceback": [
      "\u001b[0;31m---------------------------------------------------------------------------\u001b[0m",
      "\u001b[0;31mValueError\u001b[0m                                Traceback (most recent call last)",
      "\u001b[0;32m<ipython-input-4-c413b8a7df48>\u001b[0m in \u001b[0;36m<module>\u001b[0;34m\u001b[0m\n\u001b[1;32m      1\u001b[0m \u001b[0mj\u001b[0m \u001b[0;34m=\u001b[0m \u001b[0mnp\u001b[0m\u001b[0;34m.\u001b[0m\u001b[0marray\u001b[0m\u001b[0;34m(\u001b[0m\u001b[0;34m[\u001b[0m\u001b[0;34m[\u001b[0m\u001b[0;36m1\u001b[0m\u001b[0;34m,\u001b[0m\u001b[0;36m2\u001b[0m\u001b[0;34m]\u001b[0m\u001b[0;34m,\u001b[0m\u001b[0;34m[\u001b[0m\u001b[0;36m2\u001b[0m\u001b[0;34m,\u001b[0m\u001b[0;36m3\u001b[0m\u001b[0;34m]\u001b[0m\u001b[0;34m,\u001b[0m\u001b[0;34m[\u001b[0m\u001b[0;36m4\u001b[0m\u001b[0;34m,\u001b[0m\u001b[0;36m5\u001b[0m\u001b[0;34m]\u001b[0m\u001b[0;34m]\u001b[0m\u001b[0;34m)\u001b[0m\u001b[0;34m\u001b[0m\u001b[0;34m\u001b[0m\u001b[0m\n\u001b[0;32m----> 2\u001b[0;31m \u001b[0mprint\u001b[0m\u001b[0;34m(\u001b[0m\u001b[0mnp\u001b[0m\u001b[0;34m.\u001b[0m\u001b[0mrandom\u001b[0m\u001b[0;34m.\u001b[0m\u001b[0mchoice\u001b[0m\u001b[0;34m(\u001b[0m\u001b[0;34m[\u001b[0m\u001b[0;34m[\u001b[0m\u001b[0;36m1\u001b[0m\u001b[0;34m,\u001b[0m\u001b[0;36m2\u001b[0m\u001b[0;34m]\u001b[0m\u001b[0;34m,\u001b[0m\u001b[0;34m[\u001b[0m\u001b[0;36m2\u001b[0m\u001b[0;34m,\u001b[0m\u001b[0;36m3\u001b[0m\u001b[0;34m]\u001b[0m\u001b[0;34m]\u001b[0m\u001b[0;34m,\u001b[0m \u001b[0;36m1\u001b[0m\u001b[0;34m)\u001b[0m\u001b[0;34m)\u001b[0m\u001b[0;34m\u001b[0m\u001b[0;34m\u001b[0m\u001b[0m\n\u001b[0m",
      "\u001b[0;32mmtrand.pyx\u001b[0m in \u001b[0;36mnumpy.random.mtrand.RandomState.choice\u001b[0;34m()\u001b[0m\n",
      "\u001b[0;31mValueError\u001b[0m: a must be 1-dimensional"
     ]
    }
   ],
   "source": [
    "j = np.array([[1,2],[2,3],[4,5]])\n",
    "print(np.random.choice([[1,2],[2,3]], 1))"
   ]
  },
  {
   "cell_type": "code",
   "execution_count": 349,
   "metadata": {},
   "outputs": [],
   "source": [
    "import numpy as np \n",
    "import matplotlib.pyplot as plt\n",
    "import math \n",
    "import matplotlib\n",
    "\n",
    "\n",
    "class ifs_maker:\n",
    "    def __init__(self, initc, points) -> None:\n",
    "        self.initc = initc\n",
    "        self.points = points\n",
    "        self.coef_voc = np.arange(-1.2, 1.2, 0.1)\n",
    "        self.letters = [\"A\", \"B\", \"C\", \"D\", \"E\", \"F\", \"G\", \"H\",\"I\", \"J\", \"K\", \"L\", \"M\", \"N\", \"O\", \"P\", \"Q\", \"R\", \"S\", \"T\", \"U\", \"V\", \"W\", \"X\", \"Y\", \"Z\"][0:24]\n",
    "        self.letter_dic = {self.letters[x]:self.coef_voc[x]  for x in np.arange(len(self.coef_voc))}\n",
    "        self.bad = False\n",
    "        if self.initc:\n",
    "            self.initiate_coef()\n",
    "            self.create_points(self.points)\n",
    "\n",
    "\n",
    "    def letters_coef(self, code):\n",
    "        self.code = [x for x in code]\n",
    "        self.coef = self.coef = [self.letter_dic[x] for x in self.code]\n",
    "        self.create_points(self.points)\n",
    "    def create_points(self, iter):\n",
    "        x = 0.05\n",
    "        y = 0.05\n",
    "        self.puntos = []\n",
    "        for i in range(iter):\n",
    "            r = np.random.choice([0, 6], 1)[0]\n",
    "            \n",
    "            if (x > 100000 or x < -100000 or y > 100000 or y < -100000):\n",
    "                self.bad = True\n",
    "                break\n",
    "            \n",
    "            x = self.coef[r + 0]*x + self.coef[r + 1]*y + self.coef[4 + r]\n",
    "            y = self.coef[r + 2]*x + self.coef[r + 3]*y + self.coef[5 + r]\n",
    "            \n",
    "            if i > 1000:\n",
    "                \n",
    "                self.puntos.append([x,y])\n",
    "        \n",
    "        self.puntos = np.array(self.puntos)\n",
    "        \n",
    "\n",
    "    def initiate_coef(self):\n",
    "        while(True):\n",
    "            self.code = np.random.choice(self.letters, 12, replace=True)\n",
    "            self.coef = [self.letter_dic[x] for x in self.code]\n",
    "            j0 = abs(self.coef[0]*self.coef[3]-self.coef[1]*self.coef[2])\n",
    "            j1 = abs(self.coef[6]*self.coef[9]-self.coef[7]*self.coef[8])\n",
    "            if (j0 + j1 == 0 or j0 > 1 or j1 > 1):\n",
    "                pass\n",
    "            else:\n",
    "                break\n",
    "    \n",
    "\n",
    "\n",
    "def main():\n",
    "    for x in range(100):\n",
    "        ifs = ifs_maker(True)\n",
    "        \n",
    "\n",
    "        \n",
    "        plt.scatter(ifs.puntos[:, 0], ifs.puntos[:, 1])\n",
    "        plt.show()\n",
    "        \n",
    "def main2():\n",
    "    ifs = ifs_maker(True)\n",
    "    print(ifs.puntos)\n",
    "\n",
    "\n",
    "\n",
    "\n"
   ]
  },
  {
   "cell_type": "code",
   "execution_count": 234,
   "metadata": {},
   "outputs": [
    {
     "data": {
      "text/plain": [
       "0"
      ]
     },
     "execution_count": 234,
     "metadata": {},
     "output_type": "execute_result"
    }
   ],
   "source": [
    "ifs = ifs_maker(True, 50000)\n"
   ]
  },
  {
   "cell_type": "code",
   "execution_count": 288,
   "metadata": {},
   "outputs": [
    {
     "data": {
      "text/plain": [
       "inf"
      ]
     },
     "execution_count": 288,
     "metadata": {},
     "output_type": "execute_result"
    }
   ],
   "source": [
    "math.inf"
   ]
  },
  {
   "cell_type": "code",
   "execution_count": 359,
   "metadata": {},
   "outputs": [
    {
     "data": {
      "image/png": "[encoded data removed]",
      "text/plain": [
       "<Figure size 300x300 with 1 Axes>"
      ]
     },
     "metadata": {
      "needs_background": "light"
     },
     "output_type": "display_data"
    },
    {
     "data": {
      "image/png": "[encoded data removed]",
      "text/plain": [
       "<Figure size 300x300 with 1 Axes>"
      ]
     },
     "metadata": {
      "needs_background": "light"
     },
     "output_type": "display_data"
    }
   ],
   "source": [
    "for x in range(3):\n",
    "    ifs = ifs_maker(True, 10000)\n",
    "    px = 1/plt.rcParams['figure.dpi']  # pixel in inches\n",
    "    if (ifs.bad):\n",
    "        pass\n",
    "    else:\n",
    "        matplotlib.use('Agg')\n",
    "\n",
    "        plt.subplots(figsize=(300*px, 300*px))\n",
    "        plt.axis('off')\n",
    "        plt.scatter(ifs.puntos[:, 0], ifs.puntos[:, 1], c=\"black\",alpha=0.5, s = 0.1)\n",
    "\n",
    "        plt.savefig(\"\".join(ifs.code)+\".png\",dpi=plt.rcParams['figure.dpi'])"
   ]
  }
 ],
 "metadata": {
  "kernelspec": {
   "display_name": "Python 3",
   "language": "python",
   "name": "python3"
  },
  "language_info": {
   "codemirror_mode": {
    "name": "ipython",
    "version": 3
   },
   "file_extension": ".py",
   "mimetype": "text/x-python",
   "name": "python",
   "nbconvert_exporter": "python",
   "pygments_lexer": "ipython3",
   "version": "3.8.10"
  }
 },
 "nbformat": 4,
 "nbformat_minor": 4
}
